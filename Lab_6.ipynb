{
  "nbformat": 4,
  "nbformat_minor": 0,
  "metadata": {
    "colab": {
      "provenance": []
    },
    "kernelspec": {
      "name": "python3",
      "display_name": "Python 3"
    },
    "language_info": {
      "name": "python"
    }
  },
  "cells": [
    {
      "cell_type": "markdown",
      "source": [
        "\n",
        "\n",
        "> Exercise - 1\n",
        "\n",
        "\n"
      ],
      "metadata": {
        "id": "xDMKw2iUZtkT"
      }
    },
    {
      "cell_type": "code",
      "source": [
        "pip install Faker;"
      ],
      "metadata": {
        "colab": {
          "base_uri": "https://localhost:8080/"
        },
        "id": "BCebgfkccFYZ",
        "outputId": "f51411ba-bec4-4705-8e50-7df899c345da"
      },
      "execution_count": 10,
      "outputs": [
        {
          "output_type": "stream",
          "name": "stdout",
          "text": [
            "Collecting Faker\n",
            "  Downloading Faker-22.0.0-py3-none-any.whl (1.7 MB)\n",
            "\u001b[?25l     \u001b[90m━━━━━━━━━━━━━━━━━━━━━━━━━━━━━━━━━━━━━━━━\u001b[0m \u001b[32m0.0/1.7 MB\u001b[0m \u001b[31m?\u001b[0m eta \u001b[36m-:--:--\u001b[0m\r\u001b[2K     \u001b[91m━━━━━━\u001b[0m\u001b[91m╸\u001b[0m\u001b[90m━━━━━━━━━━━━━━━━━━━━━━━━━━━━━━━━━\u001b[0m \u001b[32m0.3/1.7 MB\u001b[0m \u001b[31m8.5 MB/s\u001b[0m eta \u001b[36m0:00:01\u001b[0m\r\u001b[2K     \u001b[91m━━━━━━━━━━━━━━━━━━━\u001b[0m\u001b[90m╺\u001b[0m\u001b[90m━━━━━━━━━━━━━━━━━━━━\u001b[0m \u001b[32m0.8/1.7 MB\u001b[0m \u001b[31m12.1 MB/s\u001b[0m eta \u001b[36m0:00:01\u001b[0m\r\u001b[2K     \u001b[91m━━━━━━━━━━━━━━━━━━━━━━━━━━━━━━━━━━\u001b[0m\u001b[91m╸\u001b[0m\u001b[90m━━━━━\u001b[0m \u001b[32m1.5/1.7 MB\u001b[0m \u001b[31m14.5 MB/s\u001b[0m eta \u001b[36m0:00:01\u001b[0m\r\u001b[2K     \u001b[90m━━━━━━━━━━━━━━━━━━━━━━━━━━━━━━━━━━━━━━━━\u001b[0m \u001b[32m1.7/1.7 MB\u001b[0m \u001b[31m13.7 MB/s\u001b[0m eta \u001b[36m0:00:00\u001b[0m\n",
            "\u001b[?25hRequirement already satisfied: python-dateutil>=2.4 in /usr/local/lib/python3.10/dist-packages (from Faker) (2.8.2)\n",
            "Requirement already satisfied: six>=1.5 in /usr/local/lib/python3.10/dist-packages (from python-dateutil>=2.4->Faker) (1.16.0)\n",
            "Installing collected packages: Faker\n",
            "Successfully installed Faker-22.0.0\n"
          ]
        }
      ]
    },
    {
      "cell_type": "code",
      "source": [
        "\n",
        "import pandas as pd\n",
        "import faker\n",
        "import random\n"
      ],
      "metadata": {
        "id": "Keu7ojyJb2Yr"
      },
      "execution_count": 11,
      "outputs": []
    },
    {
      "cell_type": "markdown",
      "source": [
        "\n",
        "\n",
        "> Using Faker Library\n",
        "\n",
        "\n"
      ],
      "metadata": {
        "id": "a8vP-INMdxST"
      }
    },
    {
      "cell_type": "code",
      "execution_count": 12,
      "metadata": {
        "colab": {
          "base_uri": "https://localhost:8080/"
        },
        "id": "zfajwX45ZZFn",
        "outputId": "f8039dda-351f-44c6-abd7-daee052b052b"
      },
      "outputs": [
        {
          "output_type": "stream",
          "name": "stdout",
          "text": [
            "  Flight_Number Flight_Type Pilot_License_Type  Distance_Traveled_km  \\\n",
            "0    FLIGHT-001   Passenger           Military                539.25   \n",
            "1    FLIGHT-002   Passenger           Military                870.54   \n",
            "2    FLIGHT-003       Cargo           Military                474.99   \n",
            "3    FLIGHT-004       Cargo            Private                544.57   \n",
            "4    FLIGHT-005   Passenger            Private                945.28   \n",
            "\n",
            "   Fuel_Consumption_liters  \n",
            "0                    56.17  \n",
            "1                   198.09  \n",
            "2                    10.71  \n",
            "3                    45.36  \n",
            "4                    84.66  \n"
          ]
        }
      ],
      "source": [
        "import pandas as pd\n",
        "import faker\n",
        "import random\n",
        "\n",
        "fake = faker.Faker()\n",
        "\n",
        "num_flights = 100\n",
        "\n",
        "# Flight Information\n",
        "flight_data = {\n",
        "    'Flight_Number': ['FLIGHT-{:03d}'.format(i + 1) for i in range(num_flights)],  # Format: FLIGHT-001, FLIGHT-002, ...\n",
        "    'Flight_Type': [fake.random_element(['Passenger', 'Cargo', 'Medical Evacuation', 'Surveillance']) for _ in range(num_flights)],\n",
        "    'Pilot_License_Type': [random.choice(['Commercial', 'Private', 'Military']) for _ in range(num_flights)],\n",
        "    'Distance_Traveled_km': [round(random.uniform(50, 1000), 2) for _ in range(num_flights)],\n",
        "    'Fuel_Consumption_liters': [round(random.uniform(10, 200), 2) for _ in range(num_flights)]\n",
        "}\n",
        "\n",
        "flight_df = pd.DataFrame(flight_data)\n",
        "\n",
        "# Display the DataFrame\n",
        "print(flight_df.head())\n"
      ]
    },
    {
      "cell_type": "markdown",
      "source": [
        "\n",
        "\n",
        "> Using Random Library\n",
        "\n",
        "\n"
      ],
      "metadata": {
        "id": "wFGZ7cjAdDtf"
      }
    },
    {
      "cell_type": "code",
      "source": [
        "import pandas as pd\n",
        "import numpy as np\n",
        "import random\n",
        "\n",
        "# Set a seed for reproducibility\n",
        "np.random.seed(42)\n",
        "random.seed(42)\n",
        "\n",
        "num_flights = 500\n",
        "\n",
        "# Weather Conditions\n",
        "weather_conditions = [\"Clear Sky\", \"Cloudy\", \"Rainy\", \"Stormy\"]\n",
        "weather_data = [random.choice(weather_conditions) for _ in range(num_flights)]\n",
        "\n",
        "# Flight Purpose\n",
        "flight_purposes = [\"Transportation\", \"Emergency Response\", \"Aerial Survey\"]\n",
        "flight_purpose_data = [random.choice(flight_purposes) for _ in range(num_flights)]\n",
        "\n",
        "# Altitude Gain/Loss (in meters)\n",
        "altitude_gain_loss_data = np.random.uniform(-500, 1000, num_flights)\n",
        "\n",
        "# Payload Weight (in kilograms)\n",
        "payload_weight_data = np.random.uniform(100, 1000, num_flights)\n",
        "\n",
        "# Flight Number\n",
        "flight_numbers = ['FLIGHT-{:03d}'.format(i + 1) for i in range(num_flights)]\n",
        "\n",
        "# Create DataFrame\n",
        "flight_features_data = {\n",
        "    'Flight_Number': flight_numbers,\n",
        "    'Weather_Conditions': weather_data,\n",
        "    'Flight_Purpose': flight_purpose_data,\n",
        "    'Altitude_Gain_Loss_meters': altitude_gain_loss_data,\n",
        "    'Payload_Weight_kg': payload_weight_data\n",
        "}\n",
        "\n",
        "flight_features_df = pd.DataFrame(flight_features_data)\n",
        "\n",
        "# Display the DataFrame\n",
        "print(flight_features_df.head())\n"
      ],
      "metadata": {
        "colab": {
          "base_uri": "https://localhost:8080/"
        },
        "id": "QWlc6i5VcaVb",
        "outputId": "540f7500-ea9c-4a65-af50-c42aa1455d9d"
      },
      "execution_count": 13,
      "outputs": [
        {
          "output_type": "stream",
          "name": "stdout",
          "text": [
            "  Flight_Number Weather_Conditions      Flight_Purpose  \\\n",
            "0    FLIGHT-001          Clear Sky      Transportation   \n",
            "1    FLIGHT-002          Clear Sky  Emergency Response   \n",
            "2    FLIGHT-003              Rainy  Emergency Response   \n",
            "3    FLIGHT-004             Cloudy  Emergency Response   \n",
            "4    FLIGHT-005             Cloudy      Transportation   \n",
            "\n",
            "   Altitude_Gain_Loss_meters  Payload_Weight_kg  \n",
            "0                  61.810178         728.345543  \n",
            "1                 926.071460         582.486730  \n",
            "2                 597.990913         378.574855  \n",
            "3                 397.987726         832.415518  \n",
            "4                -265.972039         716.258055  \n"
          ]
        }
      ]
    },
    {
      "cell_type": "markdown",
      "source": [
        "\n",
        "\n",
        "> Using ForgerPy Library\n",
        "\n",
        "\n"
      ],
      "metadata": {
        "id": "Y6d8fXd7d1c8"
      }
    },
    {
      "cell_type": "code",
      "source": [
        "pip install mimesis"
      ],
      "metadata": {
        "colab": {
          "base_uri": "https://localhost:8080/"
        },
        "id": "IGK9J25SfLpm",
        "outputId": "717c95cb-62b5-4605-bb11-cc200c38d489"
      },
      "execution_count": 14,
      "outputs": [
        {
          "output_type": "stream",
          "name": "stdout",
          "text": [
            "Collecting mimesis\n",
            "  Downloading mimesis-11.1.0-py3-none-any.whl (4.4 MB)\n",
            "\u001b[2K     \u001b[90m━━━━━━━━━━━━━━━━━━━━━━━━━━━━━━━━━━━━━━━━\u001b[0m \u001b[32m4.4/4.4 MB\u001b[0m \u001b[31m18.7 MB/s\u001b[0m eta \u001b[36m0:00:00\u001b[0m\n",
            "\u001b[?25hInstalling collected packages: mimesis\n",
            "Successfully installed mimesis-11.1.0\n"
          ]
        }
      ]
    },
    {
      "cell_type": "code",
      "source": [
        "import pandas as pd\n",
        "from mimesis import Generic\n",
        "\n",
        "# Create a mimesis generic instance\n",
        "generic = Generic()\n",
        "\n",
        "num_flights = 500\n",
        "\n",
        "# Flight Purpose\n",
        "flight_purposes = [\"Transportation\", \"Emergency Response\", \"Aerial Survey\"]\n",
        "flight_purpose_data = [generic.choice(flight_purposes) for _ in range(num_flights)]\n",
        "\n",
        "# Destination Type\n",
        "destination_types = [\"Urban\", \"Rural\", \"Mountainous\"]\n",
        "destination_type_data = [generic.choice(destination_types) for _ in range(num_flights)]\n",
        "\n",
        "# Average Speed (in kilometers per hour)\n",
        "average_speed_data = [generic.random.randint(100, 300) for _ in range(num_flights)]\n",
        "\n",
        "# Departure and Arrival Times\n",
        "departure_times = [generic.datetime.date(start=2024, end=2024) for _ in range(num_flights)]\n",
        "arrival_times = [departure + pd.Timedelta(hours=generic.random.randint(1, 8)) for departure in departure_times]\n",
        "\n",
        "# Flight Numbers\n",
        "flight_numbers = ['FLIGHT-{:03d}'.format(i + 1) for i in range(num_flights)]\n",
        "\n",
        "# Create DataFrame\n",
        "flight_additional_features_data = {\n",
        "    'Flight_Number': flight_numbers,\n",
        "    'Flight_Purpose': flight_purpose_data,\n",
        "    'Destination_Type': destination_type_data,\n",
        "    'Average_Speed_kph': average_speed_data,\n",
        "    'Departure_Time': departure_times,\n",
        "    'Arrival_Time': arrival_times\n",
        "}\n",
        "\n",
        "flight_random_features_df = pd.DataFrame(flight_additional_features_data)\n",
        "\n",
        "# Display the DataFrame\n",
        "print(flight_random_features_df.head())\n"
      ],
      "metadata": {
        "colab": {
          "base_uri": "https://localhost:8080/"
        },
        "id": "u6SQdejhfJ1D",
        "outputId": "5eb3f07e-fe9b-487e-cfac-aa471f70686d"
      },
      "execution_count": 15,
      "outputs": [
        {
          "output_type": "stream",
          "name": "stdout",
          "text": [
            "  Flight_Number      Flight_Purpose Destination_Type  Average_Speed_kph  \\\n",
            "0    FLIGHT-001  Emergency Response      Mountainous                297   \n",
            "1    FLIGHT-002       Aerial Survey      Mountainous                243   \n",
            "2    FLIGHT-003       Aerial Survey      Mountainous                213   \n",
            "3    FLIGHT-004      Transportation            Urban                266   \n",
            "4    FLIGHT-005       Aerial Survey            Urban                137   \n",
            "\n",
            "  Departure_Time Arrival_Time  \n",
            "0     2024-07-09   2024-07-09  \n",
            "1     2024-11-02   2024-11-02  \n",
            "2     2024-10-27   2024-10-27  \n",
            "3     2024-10-31   2024-10-31  \n",
            "4     2024-03-20   2024-03-20  \n"
          ]
        }
      ]
    },
    {
      "cell_type": "markdown",
      "source": [
        "\n",
        "\n",
        "> Merging all the data frames\n",
        "\n",
        "\n"
      ],
      "metadata": {
        "id": "YLniWRz8hmHz"
      }
    },
    {
      "cell_type": "markdown",
      "source": [
        "\n",
        "\n",
        "> Merging all the features generated by using different Libraries into one dataframe\n",
        "\n",
        "\n"
      ],
      "metadata": {
        "id": "_nTZOHNRT_Fz"
      }
    },
    {
      "cell_type": "code",
      "source": [
        "\n",
        "# Merged data frames\n",
        "merged_dataset = pd.merge(flight_random_features_df, flight_df, on='Flight_Number', how='inner')\n",
        "merged_dataset = pd.merge(merged_dataset, flight_features_df, on='Flight_Number', how='inner')\n",
        "\n",
        "# Display the merged dataset\n",
        "print(merged_dataset.head())"
      ],
      "metadata": {
        "colab": {
          "base_uri": "https://localhost:8080/"
        },
        "id": "qhzHG0Zahl8k",
        "outputId": "3bc7a46d-f6f4-4e32-a2b6-b0bd4e389cf6"
      },
      "execution_count": 16,
      "outputs": [
        {
          "output_type": "stream",
          "name": "stdout",
          "text": [
            "  Flight_Number    Flight_Purpose_x Destination_Type  Average_Speed_kph  \\\n",
            "0    FLIGHT-001  Emergency Response      Mountainous                297   \n",
            "1    FLIGHT-002       Aerial Survey      Mountainous                243   \n",
            "2    FLIGHT-003       Aerial Survey      Mountainous                213   \n",
            "3    FLIGHT-004      Transportation            Urban                266   \n",
            "4    FLIGHT-005       Aerial Survey            Urban                137   \n",
            "\n",
            "  Departure_Time Arrival_Time Flight_Type Pilot_License_Type  \\\n",
            "0     2024-07-09   2024-07-09   Passenger           Military   \n",
            "1     2024-11-02   2024-11-02   Passenger           Military   \n",
            "2     2024-10-27   2024-10-27       Cargo           Military   \n",
            "3     2024-10-31   2024-10-31       Cargo            Private   \n",
            "4     2024-03-20   2024-03-20   Passenger            Private   \n",
            "\n",
            "   Distance_Traveled_km  Fuel_Consumption_liters Weather_Conditions  \\\n",
            "0                539.25                    56.17          Clear Sky   \n",
            "1                870.54                   198.09          Clear Sky   \n",
            "2                474.99                    10.71              Rainy   \n",
            "3                544.57                    45.36             Cloudy   \n",
            "4                945.28                    84.66             Cloudy   \n",
            "\n",
            "     Flight_Purpose_y  Altitude_Gain_Loss_meters  Payload_Weight_kg  \n",
            "0      Transportation                  61.810178         728.345543  \n",
            "1  Emergency Response                 926.071460         582.486730  \n",
            "2  Emergency Response                 597.990913         378.574855  \n",
            "3  Emergency Response                 397.987726         832.415518  \n",
            "4      Transportation                -265.972039         716.258055  \n"
          ]
        }
      ]
    },
    {
      "cell_type": "code",
      "source": [
        "from google.colab import drive\n",
        "drive.mount('/content/drive')"
      ],
      "metadata": {
        "id": "SfuvD2E-VFkR"
      },
      "execution_count": null,
      "outputs": []
    },
    {
      "cell_type": "code",
      "source": [
        "file_path = '//sample_data/merged_data.csv'\n",
        "\n",
        "# Save the merged DataFrame to a CSV file\n",
        "merged_dataset.to_csv(file_path, index=False)\n"
      ],
      "metadata": {
        "id": "ehqqT_0BUMGt"
      },
      "execution_count": 19,
      "outputs": []
    }
  ]
}